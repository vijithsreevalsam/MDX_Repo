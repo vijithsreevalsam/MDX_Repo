{
 "cells": [
  {
   "cell_type": "markdown",
   "metadata": {},
   "source": [
    "**Save Image from camera Feed**"
   ]
  },
  {
   "cell_type": "code",
   "execution_count": 1,
   "metadata": {},
   "outputs": [],
   "source": [
    "import cv2\n",
    "import tkinter as tk\n",
    "from tkinter import filedialog\n",
    "from PIL import Image, ImageTk\n",
    "import os\n",
    "import time\n",
    "\n",
    "class WebcamApp:\n",
    "    def __init__(self, window, window_title):\n",
    "        self.window = window\n",
    "        self.window.title(window_title)\n",
    "        \n",
    "        # Initialize webcam\n",
    "        self.vid = cv2.VideoCapture(0)\n",
    "        \n",
    "        # Create canvas to display video feed\n",
    "        self.canvas = tk.Canvas(window, width=640, height=480)\n",
    "        self.canvas.pack()\n",
    "        \n",
    "        # Create button to capture image\n",
    "        self.btn_snapshot = tk.Button(window, text=\"Capture Image\", width=50, command=self.capture_image)\n",
    "        self.btn_snapshot.pack(anchor=tk.CENTER, expand=True)\n",
    "        \n",
    "        # Button to select folder to save images\n",
    "        self.btn_folder = tk.Button(window, text=\"Select Folder\", width=50, command=self.select_folder)\n",
    "        self.btn_folder.pack(anchor=tk.CENTER, expand=True)\n",
    "        \n",
    "        self.photo = None\n",
    "        self.folder_path = \"\"\n",
    "        self.update()\n",
    "        \n",
    "        self.window.mainloop()\n",
    "        \n",
    "    def select_folder(self):\n",
    "        self.folder_path = filedialog.askdirectory()\n",
    "        \n",
    "    def capture_image(self):\n",
    "        ret, frame = self.vid.read()\n",
    "        if ret:\n",
    "            img_name = self.generate_unique_filename(self.folder_path)\n",
    "            img2bgr=cv2.cvtColor(frame,cv2.COLOR_BGR2RGB)\n",
    "            cv2.imwrite(img_name, cv2.cvtColor(img2bgr, cv2.COLOR_RGB2BGR))\n",
    "            print(\"Image saved as:\", img_name)\n",
    "        else:\n",
    "            print(\"Failed to capture image\")\n",
    "        \n",
    "    def update(self):\n",
    "        ret, frame = self.vid.read()\n",
    "        if ret:\n",
    "            self.photo = ImageTk.PhotoImage(image=Image.fromarray(cv2.cvtColor(frame, cv2.COLOR_BGR2RGB)))\n",
    "            self.canvas.create_image(0, 0, image=self.photo, anchor=tk.NW)\n",
    "        self.window.after(10, self.update)\n",
    "        \n",
    "    def generate_unique_filename(self, folder_path):\n",
    "        timestamp = time.strftime(\"%Y%m%d_%H%M%S\")\n",
    "        filename = f\"web_cam_{timestamp}.png\"\n",
    "        return os.path.join(folder_path, filename)\n",
    "\n",
    "# Create a Tkinter window\n",
    "root = tk.Tk()\n",
    "app = WebcamApp(root, \"Webcam App\")\n"
   ]
  }
 ],
 "metadata": {
  "kernelspec": {
   "display_name": "Python 3",
   "language": "python",
   "name": "python3"
  },
  "language_info": {
   "codemirror_mode": {
    "name": "ipython",
    "version": 3
   },
   "file_extension": ".py",
   "mimetype": "text/x-python",
   "name": "python",
   "nbconvert_exporter": "python",
   "pygments_lexer": "ipython3",
   "version": "3.11.8"
  }
 },
 "nbformat": 4,
 "nbformat_minor": 2
}
